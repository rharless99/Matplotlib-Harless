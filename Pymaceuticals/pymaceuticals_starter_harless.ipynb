{
 "cells": [
  {
   "cell_type": "markdown",
   "metadata": {},
   "source": [
    "## Observations and Insights \n",
    "1. Mouse x401 was treated with Capomulin.  According to the line graph as time increased, the tumor volume for that mouse decreased. The most dramatic change in the tumor volume was between timepoint 5 and 10. By the end of the treatment, the tumor was about 60% of its original size. \n",
    "\n",
    "\n",
    "2. The Scatter Plot and linear regression show that their is a strong correlation between the average weight of the mouse and the average tumor volume for the Capomulin Treatment. The relationship is that the more the mouse weighs, the larger the tumor.  A correlation coefficient of 0.71 is fairly strong (close to 1) and therefore supports a linear relationship between mouse weight and tumor volume for the Capomulon Treatment.\n",
    "\n",
    "\n",
    "3. The bar graphs show that per treatment, about the same number of mice (24 or 25) were used. This means the experiement was done well to try and elimitate bais.  Wtth all groups a similar size, it is easier to make comparisons between the drug treatments. "
   ]
  },
  {
   "cell_type": "markdown",
   "metadata": {},
   "source": []
  },
  {
   "cell_type": "code",
   "execution_count": 1,
   "metadata": {},
   "outputs": [
    {
     "data": {
      "text/html": [
       "<div>\n",
       "<style scoped>\n",
       "    .dataframe tbody tr th:only-of-type {\n",
       "        vertical-align: middle;\n",
       "    }\n",
       "\n",
       "    .dataframe tbody tr th {\n",
       "        vertical-align: top;\n",
       "    }\n",
       "\n",
       "    .dataframe thead th {\n",
       "        text-align: right;\n",
       "    }\n",
       "</style>\n",
       "<table border=\"1\" class=\"dataframe\">\n",
       "  <thead>\n",
       "    <tr style=\"text-align: right;\">\n",
       "      <th></th>\n",
       "      <th>Mouse ID</th>\n",
       "      <th>Drug Regimen</th>\n",
       "      <th>Sex</th>\n",
       "      <th>Age_months</th>\n",
       "      <th>Weight (g)</th>\n",
       "      <th>Timepoint</th>\n",
       "      <th>Tumor Volume (mm3)</th>\n",
       "      <th>Metastatic Sites</th>\n",
       "    </tr>\n",
       "  </thead>\n",
       "  <tbody>\n",
       "    <tr>\n",
       "      <th>0</th>\n",
       "      <td>k403</td>\n",
       "      <td>Ramicane</td>\n",
       "      <td>Male</td>\n",
       "      <td>21</td>\n",
       "      <td>16</td>\n",
       "      <td>0</td>\n",
       "      <td>45.000000</td>\n",
       "      <td>0</td>\n",
       "    </tr>\n",
       "    <tr>\n",
       "      <th>1</th>\n",
       "      <td>k403</td>\n",
       "      <td>Ramicane</td>\n",
       "      <td>Male</td>\n",
       "      <td>21</td>\n",
       "      <td>16</td>\n",
       "      <td>5</td>\n",
       "      <td>38.825898</td>\n",
       "      <td>0</td>\n",
       "    </tr>\n",
       "    <tr>\n",
       "      <th>2</th>\n",
       "      <td>k403</td>\n",
       "      <td>Ramicane</td>\n",
       "      <td>Male</td>\n",
       "      <td>21</td>\n",
       "      <td>16</td>\n",
       "      <td>10</td>\n",
       "      <td>35.014271</td>\n",
       "      <td>1</td>\n",
       "    </tr>\n",
       "    <tr>\n",
       "      <th>3</th>\n",
       "      <td>k403</td>\n",
       "      <td>Ramicane</td>\n",
       "      <td>Male</td>\n",
       "      <td>21</td>\n",
       "      <td>16</td>\n",
       "      <td>15</td>\n",
       "      <td>34.223992</td>\n",
       "      <td>1</td>\n",
       "    </tr>\n",
       "    <tr>\n",
       "      <th>4</th>\n",
       "      <td>k403</td>\n",
       "      <td>Ramicane</td>\n",
       "      <td>Male</td>\n",
       "      <td>21</td>\n",
       "      <td>16</td>\n",
       "      <td>20</td>\n",
       "      <td>32.997729</td>\n",
       "      <td>1</td>\n",
       "    </tr>\n",
       "  </tbody>\n",
       "</table>\n",
       "</div>"
      ],
      "text/plain": [
       "  Mouse ID Drug Regimen   Sex  Age_months  Weight (g)  Timepoint  \\\n",
       "0     k403     Ramicane  Male          21          16          0   \n",
       "1     k403     Ramicane  Male          21          16          5   \n",
       "2     k403     Ramicane  Male          21          16         10   \n",
       "3     k403     Ramicane  Male          21          16         15   \n",
       "4     k403     Ramicane  Male          21          16         20   \n",
       "\n",
       "   Tumor Volume (mm3)  Metastatic Sites  \n",
       "0           45.000000                 0  \n",
       "1           38.825898                 0  \n",
       "2           35.014271                 1  \n",
       "3           34.223992                 1  \n",
       "4           32.997729                 1  "
      ]
     },
     "execution_count": 1,
     "metadata": {},
     "output_type": "execute_result"
    }
   ],
   "source": [
    "# Dependencies and Setup\n",
    "%matplotlib inline \n",
    "\n",
    "import matplotlib.pyplot as plt\n",
    "plt.rcParams[\"figure.figsize\"] = [15, 6]\n",
    "import pandas as pd\n",
    "import scipy.stats as st\n",
    "import numpy as np\n",
    "from scipy.stats import linregress\n",
    "import matplotlib.patches as mpatches\n",
    "\n",
    "# Study data files\n",
    "mouse_metadata_path = \"data/Mouse_metadata.csv\"\n",
    "study_results_path = \"data/Study_results.csv\"\n",
    "\n",
    "# Read the mouse data and the study results\n",
    "mouse_metadata = pd.read_csv(mouse_metadata_path)\n",
    "study_results = pd.read_csv(study_results_path)\n",
    "\n",
    "\n",
    "# Combine the data into a single dataset\n",
    "Combined_Results = mouse_metadata.merge(study_results, on=\"Mouse ID\")\n",
    "\n",
    "# Display the data table for preview\n",
    "Combined_Results.head()\n",
    "\n"
   ]
  },
  {
   "cell_type": "code",
   "execution_count": 2,
   "metadata": {},
   "outputs": [
    {
     "data": {
      "text/plain": [
       "249"
      ]
     },
     "execution_count": 2,
     "metadata": {},
     "output_type": "execute_result"
    }
   ],
   "source": [
    "# Checking the number of mice.\n",
    "len(Combined_Results[\"Mouse ID\"].unique())\n",
    "\n"
   ]
  },
  {
   "cell_type": "code",
   "execution_count": 3,
   "metadata": {},
   "outputs": [
    {
     "data": {
      "text/plain": [
       "array(['g989'], dtype=object)"
      ]
     },
     "execution_count": 3,
     "metadata": {},
     "output_type": "execute_result"
    }
   ],
   "source": [
    "# Getting the duplicate mice by ID number that shows up for Mouse ID and Timepoint. \n",
    "\n",
    "Duplicate_Mouse = Combined_Results.loc[Combined_Results.duplicated(subset=['Mouse ID', 'Timepoint']),'Mouse ID'].unique()\n",
    "Duplicate_Mouse\n"
   ]
  },
  {
   "cell_type": "code",
   "execution_count": 4,
   "metadata": {},
   "outputs": [
    {
     "data": {
      "text/html": [
       "<div>\n",
       "<style scoped>\n",
       "    .dataframe tbody tr th:only-of-type {\n",
       "        vertical-align: middle;\n",
       "    }\n",
       "\n",
       "    .dataframe tbody tr th {\n",
       "        vertical-align: top;\n",
       "    }\n",
       "\n",
       "    .dataframe thead th {\n",
       "        text-align: right;\n",
       "    }\n",
       "</style>\n",
       "<table border=\"1\" class=\"dataframe\">\n",
       "  <thead>\n",
       "    <tr style=\"text-align: right;\">\n",
       "      <th></th>\n",
       "      <th>Mouse ID</th>\n",
       "      <th>Drug Regimen</th>\n",
       "      <th>Sex</th>\n",
       "      <th>Age_months</th>\n",
       "      <th>Weight (g)</th>\n",
       "      <th>Timepoint</th>\n",
       "      <th>Tumor Volume (mm3)</th>\n",
       "      <th>Metastatic Sites</th>\n",
       "    </tr>\n",
       "  </thead>\n",
       "  <tbody>\n",
       "    <tr>\n",
       "      <th>0</th>\n",
       "      <td>k403</td>\n",
       "      <td>Ramicane</td>\n",
       "      <td>Male</td>\n",
       "      <td>21</td>\n",
       "      <td>16</td>\n",
       "      <td>0</td>\n",
       "      <td>45.000000</td>\n",
       "      <td>0</td>\n",
       "    </tr>\n",
       "    <tr>\n",
       "      <th>1</th>\n",
       "      <td>k403</td>\n",
       "      <td>Ramicane</td>\n",
       "      <td>Male</td>\n",
       "      <td>21</td>\n",
       "      <td>16</td>\n",
       "      <td>5</td>\n",
       "      <td>38.825898</td>\n",
       "      <td>0</td>\n",
       "    </tr>\n",
       "    <tr>\n",
       "      <th>2</th>\n",
       "      <td>k403</td>\n",
       "      <td>Ramicane</td>\n",
       "      <td>Male</td>\n",
       "      <td>21</td>\n",
       "      <td>16</td>\n",
       "      <td>10</td>\n",
       "      <td>35.014271</td>\n",
       "      <td>1</td>\n",
       "    </tr>\n",
       "    <tr>\n",
       "      <th>3</th>\n",
       "      <td>k403</td>\n",
       "      <td>Ramicane</td>\n",
       "      <td>Male</td>\n",
       "      <td>21</td>\n",
       "      <td>16</td>\n",
       "      <td>15</td>\n",
       "      <td>34.223992</td>\n",
       "      <td>1</td>\n",
       "    </tr>\n",
       "    <tr>\n",
       "      <th>4</th>\n",
       "      <td>k403</td>\n",
       "      <td>Ramicane</td>\n",
       "      <td>Male</td>\n",
       "      <td>21</td>\n",
       "      <td>16</td>\n",
       "      <td>20</td>\n",
       "      <td>32.997729</td>\n",
       "      <td>1</td>\n",
       "    </tr>\n",
       "  </tbody>\n",
       "</table>\n",
       "</div>"
      ],
      "text/plain": [
       "  Mouse ID Drug Regimen   Sex  Age_months  Weight (g)  Timepoint  \\\n",
       "0     k403     Ramicane  Male          21          16          0   \n",
       "1     k403     Ramicane  Male          21          16          5   \n",
       "2     k403     Ramicane  Male          21          16         10   \n",
       "3     k403     Ramicane  Male          21          16         15   \n",
       "4     k403     Ramicane  Male          21          16         20   \n",
       "\n",
       "   Tumor Volume (mm3)  Metastatic Sites  \n",
       "0           45.000000                 0  \n",
       "1           38.825898                 0  \n",
       "2           35.014271                 1  \n",
       "3           34.223992                 1  \n",
       "4           32.997729                 1  "
      ]
     },
     "execution_count": 4,
     "metadata": {},
     "output_type": "execute_result"
    }
   ],
   "source": [
    "# Create a clean DataFrame by dropping the duplicate mouse by its ID.\n",
    "Cleaned_df = Combined_Results[Combined_Results[\"Mouse ID\"].isin(Duplicate_Mouse)==False]\n",
    "Cleaned_df.head()"
   ]
  },
  {
   "cell_type": "code",
   "execution_count": 5,
   "metadata": {},
   "outputs": [
    {
     "data": {
      "text/plain": [
       "248"
      ]
     },
     "execution_count": 5,
     "metadata": {},
     "output_type": "execute_result"
    }
   ],
   "source": [
    "# Checking the number of mice in the clean DataFrame.\n",
    "Check = len(Cleaned_df[\"Mouse ID\"].unique())\n",
    "Check\n"
   ]
  },
  {
   "cell_type": "markdown",
   "metadata": {},
   "source": [
    "## Summary Statistics"
   ]
  },
  {
   "cell_type": "code",
   "execution_count": 6,
   "metadata": {},
   "outputs": [
    {
     "data": {
      "text/html": [
       "<div>\n",
       "<style scoped>\n",
       "    .dataframe tbody tr th:only-of-type {\n",
       "        vertical-align: middle;\n",
       "    }\n",
       "\n",
       "    .dataframe tbody tr th {\n",
       "        vertical-align: top;\n",
       "    }\n",
       "\n",
       "    .dataframe thead th {\n",
       "        text-align: right;\n",
       "    }\n",
       "</style>\n",
       "<table border=\"1\" class=\"dataframe\">\n",
       "  <thead>\n",
       "    <tr style=\"text-align: right;\">\n",
       "      <th></th>\n",
       "      <th>Mean</th>\n",
       "      <th>Median</th>\n",
       "      <th>Variance</th>\n",
       "      <th>StandardDev</th>\n",
       "      <th>SEM</th>\n",
       "    </tr>\n",
       "    <tr>\n",
       "      <th>Drug Regimen</th>\n",
       "      <th></th>\n",
       "      <th></th>\n",
       "      <th></th>\n",
       "      <th></th>\n",
       "      <th></th>\n",
       "    </tr>\n",
       "  </thead>\n",
       "  <tbody>\n",
       "    <tr>\n",
       "      <th>Capomulin</th>\n",
       "      <td>40.675741</td>\n",
       "      <td>41.557809</td>\n",
       "      <td>24.947764</td>\n",
       "      <td>4.994774</td>\n",
       "      <td>0.329346</td>\n",
       "    </tr>\n",
       "    <tr>\n",
       "      <th>Ceftamin</th>\n",
       "      <td>52.591172</td>\n",
       "      <td>51.776157</td>\n",
       "      <td>39.290177</td>\n",
       "      <td>6.268188</td>\n",
       "      <td>0.469821</td>\n",
       "    </tr>\n",
       "    <tr>\n",
       "      <th>Infubinol</th>\n",
       "      <td>52.884795</td>\n",
       "      <td>51.820584</td>\n",
       "      <td>43.128684</td>\n",
       "      <td>6.567243</td>\n",
       "      <td>0.492236</td>\n",
       "    </tr>\n",
       "    <tr>\n",
       "      <th>Ketapril</th>\n",
       "      <td>55.235638</td>\n",
       "      <td>53.698743</td>\n",
       "      <td>68.553577</td>\n",
       "      <td>8.279709</td>\n",
       "      <td>0.603860</td>\n",
       "    </tr>\n",
       "    <tr>\n",
       "      <th>Naftisol</th>\n",
       "      <td>54.331565</td>\n",
       "      <td>52.509285</td>\n",
       "      <td>66.173479</td>\n",
       "      <td>8.134708</td>\n",
       "      <td>0.596466</td>\n",
       "    </tr>\n",
       "    <tr>\n",
       "      <th>Placebo</th>\n",
       "      <td>54.033581</td>\n",
       "      <td>52.288934</td>\n",
       "      <td>61.168083</td>\n",
       "      <td>7.821003</td>\n",
       "      <td>0.581331</td>\n",
       "    </tr>\n",
       "    <tr>\n",
       "      <th>Propriva</th>\n",
       "      <td>52.320930</td>\n",
       "      <td>50.446266</td>\n",
       "      <td>43.852013</td>\n",
       "      <td>6.622085</td>\n",
       "      <td>0.544332</td>\n",
       "    </tr>\n",
       "    <tr>\n",
       "      <th>Ramicane</th>\n",
       "      <td>40.216745</td>\n",
       "      <td>40.673236</td>\n",
       "      <td>23.486704</td>\n",
       "      <td>4.846308</td>\n",
       "      <td>0.320955</td>\n",
       "    </tr>\n",
       "    <tr>\n",
       "      <th>Stelasyn</th>\n",
       "      <td>54.233149</td>\n",
       "      <td>52.431737</td>\n",
       "      <td>59.450562</td>\n",
       "      <td>7.710419</td>\n",
       "      <td>0.573111</td>\n",
       "    </tr>\n",
       "    <tr>\n",
       "      <th>Zoniferol</th>\n",
       "      <td>53.236507</td>\n",
       "      <td>51.818479</td>\n",
       "      <td>48.533355</td>\n",
       "      <td>6.966589</td>\n",
       "      <td>0.516398</td>\n",
       "    </tr>\n",
       "  </tbody>\n",
       "</table>\n",
       "</div>"
      ],
      "text/plain": [
       "                   Mean     Median   Variance  StandardDev       SEM\n",
       "Drug Regimen                                                        \n",
       "Capomulin     40.675741  41.557809  24.947764     4.994774  0.329346\n",
       "Ceftamin      52.591172  51.776157  39.290177     6.268188  0.469821\n",
       "Infubinol     52.884795  51.820584  43.128684     6.567243  0.492236\n",
       "Ketapril      55.235638  53.698743  68.553577     8.279709  0.603860\n",
       "Naftisol      54.331565  52.509285  66.173479     8.134708  0.596466\n",
       "Placebo       54.033581  52.288934  61.168083     7.821003  0.581331\n",
       "Propriva      52.320930  50.446266  43.852013     6.622085  0.544332\n",
       "Ramicane      40.216745  40.673236  23.486704     4.846308  0.320955\n",
       "Stelasyn      54.233149  52.431737  59.450562     7.710419  0.573111\n",
       "Zoniferol     53.236507  51.818479  48.533355     6.966589  0.516398"
      ]
     },
     "execution_count": 6,
     "metadata": {},
     "output_type": "execute_result"
    }
   ],
   "source": [
    "# Generate a summary statistics table of mean, median, variance, standard deviation, and SEM of the tumor volume for each regimen\n",
    "by_drug_mean = Cleaned_df.groupby(\"Drug Regimen\").mean()[\"Tumor Volume (mm3)\"]\n",
    "by_drug_mean\n",
    "\n",
    "by_drug_median = Cleaned_df.groupby(\"Drug Regimen\").median()[\"Tumor Volume (mm3)\"]\n",
    "by_drug_median\n",
    "\n",
    "by_drug_var = Cleaned_df.groupby(\"Drug Regimen\").var()[\"Tumor Volume (mm3)\"]\n",
    "by_drug_var\n",
    "\n",
    "by_drug_sd = Cleaned_df.groupby(\"Drug Regimen\").std()[\"Tumor Volume (mm3)\"]\n",
    "by_drug_sd\n",
    "\n",
    "by_drug_SEM = Cleaned_df.groupby(\"Drug Regimen\").sem()[\"Tumor Volume (mm3)\"]\n",
    "by_drug_SEM\n",
    "\n",
    "Summary_Statistics_Drugs = pd.DataFrame({\n",
    "    \"Mean\": by_drug_mean,\n",
    "    \"Median\": by_drug_median,\n",
    "    \"Variance\": by_drug_var,\n",
    "    \"StandardDev\": by_drug_sd,\n",
    "    \"SEM\": by_drug_SEM    \n",
    "})\n",
    "Summary_Statistics_Drugs\n"
   ]
  },
  {
   "cell_type": "markdown",
   "metadata": {},
   "source": [
    "## Bar and Pie Charts"
   ]
  },
  {
   "cell_type": "code",
   "execution_count": 7,
   "metadata": {},
   "outputs": [
    {
     "data": {
      "image/png": "[encoded data removed]",
      "text/plain": [
       "<Figure size 1080x360 with 1 Axes>"
      ]
     },
     "metadata": {
      "needs_background": "light"
     },
     "output_type": "display_data"
    },
    {
     "data": {
      "text/plain": [
       "<Figure size 1080x432 with 0 Axes>"
      ]
     },
     "metadata": {},
     "output_type": "display_data"
    }
   ],
   "source": [
    "# Generate a bar plot showing the total number of mice for each treatment throughout the course of the study using pandas. \n",
    "unique_mice_per_treatment = Cleaned_df.drop_duplicates(subset=['Mouse ID', 'Drug Regimen'], keep='first')\n",
    "unique_mice_per_treatment\n",
    "\n",
    "mice_per_treatment = unique_mice_per_treatment[[\"Drug Regimen\", \"Mouse ID\"]]\n",
    "mice_per_treatment\n",
    "mice_per_treatment_count = mice_per_treatment.groupby(\"Drug Regimen\").count()[\"Mouse ID\"]\n",
    "mice_per_treatment_count\n",
    "\n",
    "Mice_count_by_Drug = pd.DataFrame(mice_per_treatment_count)\n",
    "Mice_count_by_Drug\n",
    "\n",
    "\n",
    "Mice_count_by_Drug.plot(kind=\"bar\", figsize=(15,5), rot = 45)\n",
    "plt.xlabel(\"Drug Regimen\")\n",
    "plt.ylabel(\"Number of Mice per Drug Regimen\")\n",
    "plt.title(\"Mice Per Treatment\")\n",
    "plt.show()\n",
    "plt.tight_layout()\n",
    "plt.savefig(\"Bar Graph #1\")"
   ]
  },
  {
   "cell_type": "code",
   "execution_count": 8,
   "metadata": {},
   "outputs": [
    {
     "data": {
      "image/png": "[encoded data removed]",
      "text/plain": [
       "<Figure size 864x720 with 1 Axes>"
      ]
     },
     "metadata": {
      "needs_background": "light"
     },
     "output_type": "display_data"
    },
    {
     "data": {
      "text/plain": [
       "<Figure size 1080x432 with 0 Axes>"
      ]
     },
     "metadata": {},
     "output_type": "display_data"
    }
   ],
   "source": [
    "# Generate a bar plot showing the total number of mice for each treatment throughout the course of the study using pyplot\n",
    "#This is giving me the wrong label for the bars\n",
    "AllDrugs = Cleaned_df[\"Drug Regimen\"].unique()\n",
    "AlphaOrderDrugs = np.sort(AllDrugs)\n",
    "AlphaOrderDrugs\n",
    "x_axis = np.arange(len(Mice_count_by_Drug))\n",
    "tick_locations = [value for value in x_axis]\n",
    "plt.figure(figsize=(12, 10))\n",
    "plt.bar(x_axis, Mice_count_by_Drug[\"Mouse ID\"], color='b', alpha=1, align=\"center\")\n",
    "plt.xticks(tick_locations, AlphaOrderDrugs, rotation=\"45\")\n",
    "plt.xlabel(\"Drug Regimen\")\n",
    "plt.ylabel(\"Number of Mice per Drug Regimen\")\n",
    "plt.title(\"Mice Per Treatment\")\n",
    "\n",
    "\n",
    "green_patch = mpatches.Patch(color='b', label='Mouse ID')\n",
    "plt.legend(handles=[green_patch])\n",
    "\n",
    "plt.tight_layout()\n",
    "plt.show()\n",
    "plt.savefig(\"Bar Graph #2\")"
   ]
  },
  {
   "cell_type": "code",
   "execution_count": 9,
   "metadata": {},
   "outputs": [
    {
     "data": {
      "image/png": "[encoded data removed]",
      "text/plain": [
       "<Figure size 576x576 with 1 Axes>"
      ]
     },
     "metadata": {},
     "output_type": "display_data"
    }
   ],
   "source": [
    "# Generate a pie plot showing the distribution of female versus male mice using pandas\n",
    "\n",
    "Mice_Gender = Cleaned_df[[\"Mouse ID\", \"Sex\"]]\n",
    "Mice_Gender_count = Mice_Gender.groupby(\"Sex\").count()[\"Mouse ID\"]\n",
    "\n",
    "Gender_Experiment = pd.DataFrame(Mice_Gender_count)\n",
    "Gender_Experiment\n",
    "\n",
    "\n",
    "Gender_Experiment.plot(kind = \"pie\", subplots = True, autopct=\"%1.0f%%\",figsize = (8,8), yticks = None)\n",
    "plt.tight_layout()\n",
    "plt.title(\"Number of Male and Female Mice in Experiment\")\n",
    "plt.savefig(\"Pie Chart 1\")\n",
    "plt.show()\n"
   ]
  },
  {
   "cell_type": "code",
   "execution_count": 10,
   "metadata": {},
   "outputs": [
    {
     "data": {
      "text/html": [
       "<div>\n",
       "<style scoped>\n",
       "    .dataframe tbody tr th:only-of-type {\n",
       "        vertical-align: middle;\n",
       "    }\n",
       "\n",
       "    .dataframe tbody tr th {\n",
       "        vertical-align: top;\n",
       "    }\n",
       "\n",
       "    .dataframe thead th {\n",
       "        text-align: right;\n",
       "    }\n",
       "</style>\n",
       "<table border=\"1\" class=\"dataframe\">\n",
       "  <thead>\n",
       "    <tr style=\"text-align: right;\">\n",
       "      <th></th>\n",
       "      <th>Mouse ID</th>\n",
       "    </tr>\n",
       "    <tr>\n",
       "      <th>Sex</th>\n",
       "      <th></th>\n",
       "    </tr>\n",
       "  </thead>\n",
       "  <tbody>\n",
       "    <tr>\n",
       "      <th>Female</th>\n",
       "      <td>922</td>\n",
       "    </tr>\n",
       "    <tr>\n",
       "      <th>Male</th>\n",
       "      <td>958</td>\n",
       "    </tr>\n",
       "  </tbody>\n",
       "</table>\n",
       "</div>"
      ],
      "text/plain": [
       "        Mouse ID\n",
       "Sex             \n",
       "Female       922\n",
       "Male         958"
      ]
     },
     "execution_count": 10,
     "metadata": {},
     "output_type": "execute_result"
    }
   ],
   "source": [
    "Gender_Experiment"
   ]
  },
  {
   "cell_type": "code",
   "execution_count": 11,
   "metadata": {},
   "outputs": [
    {
     "data": {
      "image/png": "[encoded data removed]",
      "text/plain": [
       "<Figure size 576x576 with 1 Axes>"
      ]
     },
     "metadata": {},
     "output_type": "display_data"
    }
   ],
   "source": [
    "# Generate a pie plot showing the distribution of female versus male mice using pyplot\n",
    "Mice_Gender = Cleaned_df[[\"Mouse ID\", \"Sex\"]]\n",
    "Mice_Gender_count = Mice_Gender.groupby(\"Sex\").count()[\"Mouse ID\"]\n",
    "Gender_Experiment = pd.DataFrame(Mice_Gender_count)\n",
    "\n",
    "labels2 = [\"Female\", \"Male\"]\n",
    "number_of_each_gender = Gender_Experiment[\"Mouse ID\"]\n",
    "colors2 = [\"Blue\", \"Orange\"]\n",
    "plt.figure(figsize=(8, 8))\n",
    "plt.pie(number_of_each_gender, explode=None, labels=labels2, colors=colors2, autopct=\"%1.0f%%\", shadow=True, startangle=0)\n",
    "plt.tight_layout()\n",
    "plt.title(\"Number of Male and Female Mice in Experiment\")\n",
    "plt.legend(loc=\"upper right\")\n",
    "plt.savefig(\"Pie Chart 2\")\n",
    "plt.show()"
   ]
  },
  {
   "cell_type": "markdown",
   "metadata": {},
   "source": [
    "## Quartiles, Outliers and Boxplots"
   ]
  },
  {
   "cell_type": "code",
   "execution_count": 12,
   "metadata": {},
   "outputs": [
    {
     "data": {
      "text/html": [
       "<div>\n",
       "<style scoped>\n",
       "    .dataframe tbody tr th:only-of-type {\n",
       "        vertical-align: middle;\n",
       "    }\n",
       "\n",
       "    .dataframe tbody tr th {\n",
       "        vertical-align: top;\n",
       "    }\n",
       "\n",
       "    .dataframe thead th {\n",
       "        text-align: right;\n",
       "    }\n",
       "</style>\n",
       "<table border=\"1\" class=\"dataframe\">\n",
       "  <thead>\n",
       "    <tr style=\"text-align: right;\">\n",
       "      <th></th>\n",
       "      <th>Mouse ID</th>\n",
       "      <th>Drug Regimen</th>\n",
       "      <th>Sex</th>\n",
       "      <th>Age_months</th>\n",
       "      <th>Weight (g)</th>\n",
       "      <th>Timepoint</th>\n",
       "      <th>Tumor Volume (mm3)</th>\n",
       "      <th>Metastatic Sites</th>\n",
       "    </tr>\n",
       "  </thead>\n",
       "  <tbody>\n",
       "    <tr>\n",
       "      <th>0</th>\n",
       "      <td>a275</td>\n",
       "      <td>Ceftamin</td>\n",
       "      <td>Female</td>\n",
       "      <td>20</td>\n",
       "      <td>28</td>\n",
       "      <td>45</td>\n",
       "      <td>62.999356</td>\n",
       "      <td>3</td>\n",
       "    </tr>\n",
       "    <tr>\n",
       "      <th>1</th>\n",
       "      <td>b447</td>\n",
       "      <td>Ceftamin</td>\n",
       "      <td>Male</td>\n",
       "      <td>2</td>\n",
       "      <td>30</td>\n",
       "      <td>0</td>\n",
       "      <td>45.000000</td>\n",
       "      <td>0</td>\n",
       "    </tr>\n",
       "    <tr>\n",
       "      <th>2</th>\n",
       "      <td>b487</td>\n",
       "      <td>Ceftamin</td>\n",
       "      <td>Female</td>\n",
       "      <td>6</td>\n",
       "      <td>28</td>\n",
       "      <td>25</td>\n",
       "      <td>56.057749</td>\n",
       "      <td>1</td>\n",
       "    </tr>\n",
       "    <tr>\n",
       "      <th>3</th>\n",
       "      <td>b759</td>\n",
       "      <td>Ceftamin</td>\n",
       "      <td>Female</td>\n",
       "      <td>12</td>\n",
       "      <td>25</td>\n",
       "      <td>30</td>\n",
       "      <td>55.742829</td>\n",
       "      <td>1</td>\n",
       "    </tr>\n",
       "    <tr>\n",
       "      <th>4</th>\n",
       "      <td>f436</td>\n",
       "      <td>Ceftamin</td>\n",
       "      <td>Female</td>\n",
       "      <td>3</td>\n",
       "      <td>25</td>\n",
       "      <td>15</td>\n",
       "      <td>48.722078</td>\n",
       "      <td>2</td>\n",
       "    </tr>\n",
       "  </tbody>\n",
       "</table>\n",
       "</div>"
      ],
      "text/plain": [
       "  Mouse ID Drug Regimen     Sex  Age_months  Weight (g)  Timepoint  \\\n",
       "0     a275     Ceftamin  Female          20          28         45   \n",
       "1     b447     Ceftamin    Male           2          30          0   \n",
       "2     b487     Ceftamin  Female           6          28         25   \n",
       "3     b759     Ceftamin  Female          12          25         30   \n",
       "4     f436     Ceftamin  Female           3          25         15   \n",
       "\n",
       "   Tumor Volume (mm3)  Metastatic Sites  \n",
       "0           62.999356                 3  \n",
       "1           45.000000                 0  \n",
       "2           56.057749                 1  \n",
       "3           55.742829                 1  \n",
       "4           48.722078                 2  "
      ]
     },
     "execution_count": 12,
     "metadata": {},
     "output_type": "execute_result"
    }
   ],
   "source": [
    "#Create DataFrame by location of the 4 top drugs\n",
    "Capo_df = Cleaned_df.loc[Cleaned_df[\"Drug Regimen\"]==\"Capomulin\",:]\n",
    "Rami_df = Cleaned_df.loc[Cleaned_df[\"Drug Regimen\"]==\"Ramicane\",:]\n",
    "Infu_df = Cleaned_df.loc[Cleaned_df[\"Drug Regimen\"]==\"Infubinol\",:]\n",
    "Ceft_df = Cleaned_df.loc[Cleaned_df[\"Drug Regimen\"]==\"Ceftamin\",:]\n",
    "\n",
    "#Group the cleaned dataframe by mouse ID and max timepoint\n",
    "mouse_id_index = Cleaned_df.groupby(\"Mouse ID\").max()[\"Timepoint\"]\n",
    "#Create new dataframe from that groupby\n",
    "merge_columns = pd.DataFrame(mouse_id_index)\n",
    "merge_columns\n",
    "\n",
    "#Merge drug and groupby data frames together got each drug.  Drop all NAN\n",
    "Capomulin_Drugs_df = pd.merge(Capo_df, merge_columns, on = (\"Mouse ID\",\"Timepoint\"), how = \"right\")\n",
    "Final_Capo_Drugs = Capomulin_Drugs_df.dropna()\n",
    "Final_Capo_Drugs.head()\n",
    "\n",
    "Ramicane_Drugs_df = pd.merge(Rami_df, merge_columns, on = (\"Mouse ID\",\"Timepoint\"), how = \"right\")\n",
    "Final_Rami_Drugs = Ramicane_Drugs_df.dropna()\n",
    "Final_Rami_Drugs.head()\n",
    "\n",
    "Infubinol_Drugs_df = pd.merge(Infu_df, merge_columns, on = (\"Mouse ID\",\"Timepoint\"), how = \"right\")\n",
    "Final_Infu_Drugs = Infubinol_Drugs_df.dropna()\n",
    "Final_Infu_Drugs.head()\n",
    "\n",
    "Ceftamin_Drugs_df = pd.merge(Ceft_df, merge_columns, on = (\"Mouse ID\",\"Timepoint\"), how = \"inner\")\n",
    "Final_Ceft_Drugs = Ceftamin_Drugs_df.dropna()\n",
    "Final_Ceft_Drugs.head()\n",
    "\n",
    "\n",
    "\n"
   ]
  },
  {
   "cell_type": "code",
   "execution_count": 13,
   "metadata": {},
   "outputs": [],
   "source": [
    "#Create a Series for each drug and their tumor volume for each mouse at the max timepoint\n",
    "Tumor_Capo = Final_Capo_Drugs[\"Tumor Volume (mm3)\"]\n",
    "Tumor_Rami = Final_Rami_Drugs[\"Tumor Volume (mm3)\"]\n",
    "Tumor_Infu = Final_Infu_Drugs[\"Tumor Volume (mm3)\"]\n",
    "Tumor_Ceft = Final_Ceft_Drugs[\"Tumor Volume (mm3)\"]\n",
    "\n"
   ]
  },
  {
   "cell_type": "code",
   "execution_count": 14,
   "metadata": {},
   "outputs": [
    {
     "name": "stdout",
     "output_type": "stream",
     "text": [
      "CAPUMULIN\n",
      "The 1st quartile for Capomulin is 32.38 mm3\n",
      "The median for Capimulin is 38.13\n",
      "The 3rd quartile Capomulin is 40.16 mm3\n",
      "Thie Interquartile Range for Capomulin is 7.78 mm3\n",
      "Any values lower than 20.71 could be an outlier\n",
      "Any values greater than 51.83 could be an outlier\n",
      "--------------------------------------------------------------------------------\n",
      "RAMICANE\n",
      "The 1st quartile for Ramicane is 31.56 mm3\n",
      "The median for Ramicane is 36.56\n",
      "The 3rd quartile Ramicane is 40.66 mm3\n",
      "Thie Interquartile Range for Ramicane is 9.1 mm3\n",
      "Any values lower than 17.91 could be an outlier\n",
      "Any values greater than 54.31 could be an outlier\n",
      "--------------------------------------------------------------------------------\n",
      "INFUBINOL\n",
      "The 1st quartile for Infubinol is 54.05 mm3\n",
      "The median for Infubinal is 60.17\n",
      "The 3rd quartile Infubinol is 65.53 mm3\n",
      "Thie Interquartile Range for Infubinol is 11.48 mm3\n",
      "Any values lower than 36.83 could be an outlier\n",
      "Any values greater than 82.75 could be an outlier\n",
      "--------------------------------------------------------------------------------\n",
      "CEFTAMIN\n",
      "The 1st quartile for Ceftamin is 48.72 mm3\n",
      "The median for Ceftamin is 59.85\n",
      "The 3rd quartile Ceftamin is 64.3 mm3\n",
      "Thie Interquartile Range for Ceftamin is 15.58 mm3\n",
      "Any values lower than 25.35 could be an outlier\n",
      "Any values greater than 87.67 could be an outlier\n"
     ]
    }
   ],
   "source": [
    "#Calculate Quartiles for each Drug Regimen\n",
    "Quartiles_Capo = Tumor_Capo.quantile([.25, .50, .75])\n",
    "Quartile_1_Capo = Quartiles_Capo[0.25].round(2)\n",
    "Median_Capo = Quartiles_Capo[0.5].round(2)\n",
    "Quartile_3_Capo = Quartiles_Capo[0.75].round(2)\n",
    "iqr_Capo = (Quartile_3_Capo - Quartile_1_Capo).round(2)\n",
    "lower_outlier_Capo = (Quartile_1_Capo - (1.5 * iqr_Capo)).round(2)\n",
    "upper_outlier_Capo = (Quartile_3_Capo + (1.5 * iqr_Capo)).round(2)\n",
    "\n",
    "Quartiles_Rami = Tumor_Rami.quantile([.25, .50, .75])\n",
    "Quartile_1_Rami = Quartiles_Rami[0.25].round(2)\n",
    "Median_Rami = Quartiles_Rami[0.5].round(2)\n",
    "Quartile_3_Rami = Quartiles_Rami[0.75].round(2)\n",
    "iqr_Rami = (Quartile_3_Rami - Quartile_1_Rami).round(2)\n",
    "lower_outlier_Rami = (Quartile_1_Rami - (1.5 * iqr_Rami)).round(2)\n",
    "upper_outlier_Rami = (Quartile_3_Rami + (1.5 * iqr_Rami)).round(2)\n",
    "\n",
    "Quartiles_Infu = Tumor_Infu.quantile([.25, .50, .75])\n",
    "Quartile_1_Infu = Quartiles_Infu[0.25].round(2)\n",
    "Median_Infu = Quartiles_Infu[0.5].round(2)\n",
    "Quartile_3_Infu = Quartiles_Infu[0.75].round(2)\n",
    "iqr_Infu = (Quartile_3_Infu - Quartile_1_Infu).round(2)\n",
    "lower_outlier_Infu = (Quartile_1_Infu - (1.5 * iqr_Infu)).round(2)\n",
    "upper_outlier_Infu = (Quartile_3_Infu + (1.5 * iqr_Infu)).round(2)\n",
    "\n",
    "Quartiles_Ceft = Tumor_Ceft.quantile([.25, .50, .75])\n",
    "Quartile_1_Ceft = Quartiles_Ceft[0.25].round(2)\n",
    "Median_Ceft = Quartiles_Ceft[0.5].round(2)\n",
    "Quartile_3_Ceft= Quartiles_Ceft[0.75].round(2)\n",
    "iqr_Ceft = (Quartile_3_Ceft - Quartile_1_Ceft).round(2)\n",
    "lower_outlier_Ceft = (Quartile_1_Ceft - (1.5 * iqr_Ceft)).round(2)\n",
    "upper_outlier_Ceft = (Quartile_3_Ceft + (1.5 * iqr_Ceft)).round(2)\n",
    "#Print Results\n",
    "print(\"CAPUMULIN\")\n",
    "print(f\"The 1st quartile for Capomulin is {Quartile_1_Capo} mm3\")\n",
    "print(f\"The median for Capimulin is {Median_Capo}\")\n",
    "print(f\"The 3rd quartile Capomulin is {Quartile_3_Capo} mm3\")\n",
    "print(f\"Thie Interquartile Range for Capomulin is {iqr_Capo} mm3\")\n",
    "print(f\"Any values lower than {lower_outlier_Capo} could be an outlier\")\n",
    "print(f\"Any values greater than {upper_outlier_Capo} could be an outlier\")\n",
    "print(\"-\"* 80)\n",
    "print(\"RAMICANE\")\n",
    "print(f\"The 1st quartile for Ramicane is {Quartile_1_Rami} mm3\")\n",
    "print(f\"The median for Ramicane is {Median_Rami}\")\n",
    "print(f\"The 3rd quartile Ramicane is {Quartile_3_Rami} mm3\")\n",
    "print(f\"Thie Interquartile Range for Ramicane is {iqr_Rami} mm3\")\n",
    "print(f\"Any values lower than {lower_outlier_Rami} could be an outlier\")\n",
    "print(f\"Any values greater than {upper_outlier_Rami} could be an outlier\")\n",
    "print(\"-\"* 80)\n",
    "print(\"INFUBINOL\")\n",
    "print(f\"The 1st quartile for Infubinol is {Quartile_1_Infu} mm3\")\n",
    "print(f\"The median for Infubinal is {Median_Infu}\")\n",
    "print(f\"The 3rd quartile Infubinol is {Quartile_3_Infu} mm3\")\n",
    "print(f\"Thie Interquartile Range for Infubinol is {iqr_Infu} mm3\")\n",
    "print(f\"Any values lower than {lower_outlier_Infu} could be an outlier\")\n",
    "print(f\"Any values greater than {upper_outlier_Infu} could be an outlier\")\n",
    "print(\"-\"* 80)\n",
    "print(\"CEFTAMIN\")\n",
    "print(f\"The 1st quartile for Ceftamin is {Quartile_1_Ceft} mm3\")\n",
    "print(f\"The median for Ceftamin is {Median_Ceft}\")\n",
    "print(f\"The 3rd quartile Ceftamin is {Quartile_3_Ceft} mm3\")\n",
    "print(f\"Thie Interquartile Range for Ceftamin is {iqr_Ceft} mm3\")\n",
    "print(f\"Any values lower than {lower_outlier_Ceft} could be an outlier\")\n",
    "print(f\"Any values greater than {upper_outlier_Ceft} could be an outlier\")\n"
   ]
  },
  {
   "cell_type": "code",
   "execution_count": 15,
   "metadata": {},
   "outputs": [
    {
     "data": {
      "image/png": "[encoded data removed]",
      "text/plain": [
       "<Figure size 1080x432 with 1 Axes>"
      ]
     },
     "metadata": {
      "needs_background": "light"
     },
     "output_type": "display_data"
    },
    {
     "data": {
      "text/plain": [
       "<Figure size 1080x432 with 0 Axes>"
      ]
     },
     "metadata": {},
     "output_type": "display_data"
    }
   ],
   "source": [
    "# Generate a box plot of the final tumor volume of each mouse across four regimens of interest\n",
    "Boxplot_data = [Tumor_Capo, Tumor_Rami, Tumor_Infu, Tumor_Ceft]\n",
    "fig, ax = plt.subplots()\n",
    "ax.set_xticklabels(['Capomulin', 'Ramicane', 'Infubinol', 'Ceftamin'])\n",
    "ax.boxplot(Boxplot_data)\n",
    "ax.set_ylabel(\"Tumor Volume (mm3)\")\n",
    "plt.title(\"Tumor Volume Per Mouse at Maximum Timepoint\")\n",
    "plt.show()\n",
    "plt.savefig(\"Boxplot\")\n"
   ]
  },
  {
   "cell_type": "markdown",
   "metadata": {},
   "source": [
    "## Line and Scatter Plots"
   ]
  },
  {
   "cell_type": "code",
   "execution_count": 16,
   "metadata": {},
   "outputs": [
    {
     "data": {
      "image/png": "[encoded data removed]",
      "text/plain": [
       "<Figure size 1080x432 with 1 Axes>"
      ]
     },
     "metadata": {
      "needs_background": "light"
     },
     "output_type": "display_data"
    },
    {
     "data": {
      "text/plain": [
       "<Figure size 1080x432 with 0 Axes>"
      ]
     },
     "metadata": {},
     "output_type": "display_data"
    }
   ],
   "source": [
    "# Generate a line plot of time point versus tumor volume for a mouse treated with Capomulin\n",
    "Capomulin_df = Cleaned_df[Cleaned_df[\"Drug Regimen\"]==\"Capomulin\"]\n",
    "Capomulin_df.head()\n",
    "\n",
    "Mouse_ID_x401 = Capomulin_df[Capomulin_df[\"Mouse ID\"]== \"x401\"]\n",
    "Mouse_ID_x401\n",
    "\n",
    "x_axis = Mouse_ID_x401[\"Timepoint\"]\n",
    "y_axis = Mouse_ID_x401[\"Tumor Volume (mm3)\"]\n",
    "len(x_axis)\n",
    "len(y_axis)\n",
    "line_handle, = plt.plot(x_axis, y_axis, marker ='o', color='blue', label=\"Tumor Volume Over Time\")\n",
    "plt.plot(x_axis, y_axis)\n",
    "plt.xlabel(\"Timepoints\")\n",
    "plt.ylabel(\"Mouse x401 Tumor Volume\")\n",
    "plt.title(\"Mouse x401 Tumor Volume Across all Timepoints with Capomulin Treatment\")\n",
    "plt.legend(loc = \"upper right\")\n",
    "plt.show()\n",
    "plt.savefig(\"Line Graph\")\n",
    "\n"
   ]
  },
  {
   "cell_type": "code",
   "execution_count": 17,
   "metadata": {},
   "outputs": [
    {
     "data": {
      "image/png": "[encoded data removed]",
      "text/plain": [
       "<Figure size 1080x432 with 1 Axes>"
      ]
     },
     "metadata": {
      "needs_background": "light"
     },
     "output_type": "display_data"
    }
   ],
   "source": [
    "# Generate a scatter plot of mouse weight versus average tumor volume for the Capomulin regimen\n",
    "Capomulin_df = Cleaned_df[Cleaned_df[\"Drug Regimen\"]==\"Capomulin\"]\n",
    "Capomulin_df\n",
    "Mouse_weight = Capomulin_df.groupby(\"Mouse ID\").mean()[\"Weight (g)\"]\n",
    "Mouse_weight\n",
    "Tumor_Volume_C = Capomulin_df.groupby(\"Mouse ID\").mean()[\"Tumor Volume (mm3)\"]\n",
    "Tumor_Volume_C\n",
    "\n",
    "plt.scatter(Mouse_weight, Tumor_Volume_C, marker=\"o\", facecolors=\"blue\", edgecolors=\"black\",s=None, alpha=0.90)\n",
    "plt.title(\"Weight versus Tumor Volume (CAPOMULIN)\")\n",
    "plt.xlabel('Mouse Weight')\n",
    "plt.ylabel('Tumor Volume')\n",
    "plt.savefig(\"Scatter Plot\")\n",
    "plt.show()"
   ]
  },
  {
   "cell_type": "markdown",
   "metadata": {},
   "source": [
    "## Correlation and Regression"
   ]
  },
  {
   "cell_type": "code",
   "execution_count": 18,
   "metadata": {},
   "outputs": [
    {
     "name": "stdout",
     "output_type": "stream",
     "text": [
      "The r-squared is: 0.7088568047708717\n",
      "y = 0.95x + 21.55\n"
     ]
    },
    {
     "data": {
      "image/png": "[encoded data removed]",
      "text/plain": [
       "<Figure size 1080x432 with 1 Axes>"
      ]
     },
     "metadata": {
      "needs_background": "light"
     },
     "output_type": "display_data"
    }
   ],
   "source": [
    "# Calculate the correlation coefficient and linear regression model \n",
    "# for mouse weight and average tumor volume for the Capomulin regimen\n",
    "Capomulin_df = Cleaned_df[Cleaned_df[\"Drug Regimen\"]==\"Capomulin\"]\n",
    "Capomulin_df\n",
    "x_values = Mouse_weight\n",
    "y_values = Tumor_Volume_C\n",
    "(slope, intercept, rvalue, pvalue, stderr) = linregress(x_values, y_values)\n",
    "regress_values = x_values * slope + intercept\n",
    "line_eq = \"y = \" + str(round(slope,2)) + \"x + \" + str(round(intercept,2))\n",
    "\n",
    "plt.scatter(x_values,y_values)\n",
    "plt.plot(x_values,regress_values,\"r-\")\n",
    "plt.annotate(line_eq,(20, 36),fontsize=20,color=\"red\")\n",
    "plt.title(\"Weight versus Tumor Volume (CAPOMULIN)\")\n",
    "plt.xlabel('Mouse Weight')\n",
    "plt.ylabel('Tumor Volume')\n",
    "print(f\"The r-squared is: {rvalue**2}\")\n",
    "print(line_eq)\n",
    "plt.savefig(\"Scatter Plot with Linear Regression\")\n",
    "plt.show()\n",
    "\n"
   ]
  },
  {
   "cell_type": "code",
   "execution_count": null,
   "metadata": {},
   "outputs": [],
   "source": []
  }
 ],
 "metadata": {
  "anaconda-cloud": {},
  "kernelspec": {
   "display_name": "Python 3",
   "language": "python",
   "name": "python3"
  },
  "language_info": {
   "codemirror_mode": {
    "name": "ipython",
    "version": 3
   },
   "file_extension": ".py",
   "mimetype": "text/x-python",
   "name": "python",
   "nbconvert_exporter": "python",
   "pygments_lexer": "ipython3",
   "version": "3.7.6"
  }
 },
 "nbformat": 4,
 "nbformat_minor": 2
}
